{
 "cells": [
  {
   "cell_type": "markdown",
   "metadata": {},
   "source": [
    "# Курсовая работа"
   ]
  },
  {
   "cell_type": "markdown",
   "metadata": {},
   "source": [
    "## Тема: Влияние фильмов, входящих в общую коллекцию на кассовые сборы и бюджет"
   ]
  },
  {
   "cell_type": "code",
   "execution_count": 219,
   "metadata": {},
   "outputs": [],
   "source": [
    "import pandas as pd\n",
    "import numpy as np\n",
    "import matplotlib.pyplot as plt\n",
    "import seaborn as sns\n",
    "from scipy import stats\n",
    "\n",
    "%matplotlib inline"
   ]
  },
  {
   "cell_type": "code",
   "execution_count": 220,
   "metadata": {},
   "outputs": [],
   "source": [
    "data = pd.read_csv('train.csv')"
   ]
  },
  {
   "cell_type": "code",
   "execution_count": 221,
   "metadata": {},
   "outputs": [
    {
     "data": {
      "text/html": [
       "<div>\n",
       "<style scoped>\n",
       "    .dataframe tbody tr th:only-of-type {\n",
       "        vertical-align: middle;\n",
       "    }\n",
       "\n",
       "    .dataframe tbody tr th {\n",
       "        vertical-align: top;\n",
       "    }\n",
       "\n",
       "    .dataframe thead th {\n",
       "        text-align: right;\n",
       "    }\n",
       "</style>\n",
       "<table border=\"1\" class=\"dataframe\">\n",
       "  <thead>\n",
       "    <tr style=\"text-align: right;\">\n",
       "      <th></th>\n",
       "      <th>id</th>\n",
       "      <th>belongs_to_collection</th>\n",
       "      <th>budget</th>\n",
       "      <th>genres</th>\n",
       "      <th>homepage</th>\n",
       "      <th>imdb_id</th>\n",
       "      <th>original_language</th>\n",
       "      <th>original_title</th>\n",
       "      <th>overview</th>\n",
       "      <th>popularity</th>\n",
       "      <th>...</th>\n",
       "      <th>release_date</th>\n",
       "      <th>runtime</th>\n",
       "      <th>spoken_languages</th>\n",
       "      <th>status</th>\n",
       "      <th>tagline</th>\n",
       "      <th>title</th>\n",
       "      <th>Keywords</th>\n",
       "      <th>cast</th>\n",
       "      <th>crew</th>\n",
       "      <th>revenue</th>\n",
       "    </tr>\n",
       "  </thead>\n",
       "  <tbody>\n",
       "    <tr>\n",
       "      <th>0</th>\n",
       "      <td>1</td>\n",
       "      <td>[{'id': 313576, 'name': 'Hot Tub Time Machine ...</td>\n",
       "      <td>14000000</td>\n",
       "      <td>[{'id': 35, 'name': 'Comedy'}]</td>\n",
       "      <td>NaN</td>\n",
       "      <td>tt2637294</td>\n",
       "      <td>en</td>\n",
       "      <td>Hot Tub Time Machine 2</td>\n",
       "      <td>When Lou, who has become the \"father of the In...</td>\n",
       "      <td>6.575393</td>\n",
       "      <td>...</td>\n",
       "      <td>2/20/15</td>\n",
       "      <td>93.0</td>\n",
       "      <td>[{'iso_639_1': 'en', 'name': 'English'}]</td>\n",
       "      <td>Released</td>\n",
       "      <td>The Laws of Space and Time are About to be Vio...</td>\n",
       "      <td>Hot Tub Time Machine 2</td>\n",
       "      <td>[{'id': 4379, 'name': 'time travel'}, {'id': 9...</td>\n",
       "      <td>[{'cast_id': 4, 'character': 'Lou', 'credit_id...</td>\n",
       "      <td>[{'credit_id': '59ac067c92514107af02c8c8', 'de...</td>\n",
       "      <td>12314651</td>\n",
       "    </tr>\n",
       "    <tr>\n",
       "      <th>1</th>\n",
       "      <td>2</td>\n",
       "      <td>[{'id': 107674, 'name': 'The Princess Diaries ...</td>\n",
       "      <td>40000000</td>\n",
       "      <td>[{'id': 35, 'name': 'Comedy'}, {'id': 18, 'nam...</td>\n",
       "      <td>NaN</td>\n",
       "      <td>tt0368933</td>\n",
       "      <td>en</td>\n",
       "      <td>The Princess Diaries 2: Royal Engagement</td>\n",
       "      <td>Mia Thermopolis is now a college graduate and ...</td>\n",
       "      <td>8.248895</td>\n",
       "      <td>...</td>\n",
       "      <td>8/6/04</td>\n",
       "      <td>113.0</td>\n",
       "      <td>[{'iso_639_1': 'en', 'name': 'English'}]</td>\n",
       "      <td>Released</td>\n",
       "      <td>It can take a lifetime to find true love; she'...</td>\n",
       "      <td>The Princess Diaries 2: Royal Engagement</td>\n",
       "      <td>[{'id': 2505, 'name': 'coronation'}, {'id': 42...</td>\n",
       "      <td>[{'cast_id': 1, 'character': 'Mia Thermopolis'...</td>\n",
       "      <td>[{'credit_id': '52fe43fe9251416c7502563d', 'de...</td>\n",
       "      <td>95149435</td>\n",
       "    </tr>\n",
       "    <tr>\n",
       "      <th>2</th>\n",
       "      <td>3</td>\n",
       "      <td>NaN</td>\n",
       "      <td>3300000</td>\n",
       "      <td>[{'id': 18, 'name': 'Drama'}]</td>\n",
       "      <td>http://sonyclassics.com/whiplash/</td>\n",
       "      <td>tt2582802</td>\n",
       "      <td>en</td>\n",
       "      <td>Whiplash</td>\n",
       "      <td>Under the direction of a ruthless instructor, ...</td>\n",
       "      <td>64.299990</td>\n",
       "      <td>...</td>\n",
       "      <td>10/10/14</td>\n",
       "      <td>105.0</td>\n",
       "      <td>[{'iso_639_1': 'en', 'name': 'English'}]</td>\n",
       "      <td>Released</td>\n",
       "      <td>The road to greatness can take you to the edge.</td>\n",
       "      <td>Whiplash</td>\n",
       "      <td>[{'id': 1416, 'name': 'jazz'}, {'id': 1523, 'n...</td>\n",
       "      <td>[{'cast_id': 5, 'character': 'Andrew Neimann',...</td>\n",
       "      <td>[{'credit_id': '54d5356ec3a3683ba0000039', 'de...</td>\n",
       "      <td>13092000</td>\n",
       "    </tr>\n",
       "    <tr>\n",
       "      <th>3</th>\n",
       "      <td>4</td>\n",
       "      <td>NaN</td>\n",
       "      <td>1200000</td>\n",
       "      <td>[{'id': 53, 'name': 'Thriller'}, {'id': 18, 'n...</td>\n",
       "      <td>http://kahaanithefilm.com/</td>\n",
       "      <td>tt1821480</td>\n",
       "      <td>hi</td>\n",
       "      <td>Kahaani</td>\n",
       "      <td>Vidya Bagchi (Vidya Balan) arrives in Kolkata ...</td>\n",
       "      <td>3.174936</td>\n",
       "      <td>...</td>\n",
       "      <td>3/9/12</td>\n",
       "      <td>122.0</td>\n",
       "      <td>[{'iso_639_1': 'en', 'name': 'English'}, {'iso...</td>\n",
       "      <td>Released</td>\n",
       "      <td>NaN</td>\n",
       "      <td>Kahaani</td>\n",
       "      <td>[{'id': 10092, 'name': 'mystery'}, {'id': 1054...</td>\n",
       "      <td>[{'cast_id': 1, 'character': 'Vidya Bagchi', '...</td>\n",
       "      <td>[{'credit_id': '52fe48779251416c9108d6eb', 'de...</td>\n",
       "      <td>16000000</td>\n",
       "    </tr>\n",
       "    <tr>\n",
       "      <th>4</th>\n",
       "      <td>5</td>\n",
       "      <td>NaN</td>\n",
       "      <td>0</td>\n",
       "      <td>[{'id': 28, 'name': 'Action'}, {'id': 53, 'nam...</td>\n",
       "      <td>NaN</td>\n",
       "      <td>tt1380152</td>\n",
       "      <td>ko</td>\n",
       "      <td>마린보이</td>\n",
       "      <td>Marine Boy is the story of a former national s...</td>\n",
       "      <td>1.148070</td>\n",
       "      <td>...</td>\n",
       "      <td>2/5/09</td>\n",
       "      <td>118.0</td>\n",
       "      <td>[{'iso_639_1': 'ko', 'name': '한국어/조선말'}]</td>\n",
       "      <td>Released</td>\n",
       "      <td>NaN</td>\n",
       "      <td>Marine Boy</td>\n",
       "      <td>NaN</td>\n",
       "      <td>[{'cast_id': 3, 'character': 'Chun-soo', 'cred...</td>\n",
       "      <td>[{'credit_id': '52fe464b9251416c75073b43', 'de...</td>\n",
       "      <td>3923970</td>\n",
       "    </tr>\n",
       "  </tbody>\n",
       "</table>\n",
       "<p>5 rows × 23 columns</p>\n",
       "</div>"
      ],
      "text/plain": [
       "   id                              belongs_to_collection    budget  \\\n",
       "0   1  [{'id': 313576, 'name': 'Hot Tub Time Machine ...  14000000   \n",
       "1   2  [{'id': 107674, 'name': 'The Princess Diaries ...  40000000   \n",
       "2   3                                                NaN   3300000   \n",
       "3   4                                                NaN   1200000   \n",
       "4   5                                                NaN         0   \n",
       "\n",
       "                                              genres  \\\n",
       "0                     [{'id': 35, 'name': 'Comedy'}]   \n",
       "1  [{'id': 35, 'name': 'Comedy'}, {'id': 18, 'nam...   \n",
       "2                      [{'id': 18, 'name': 'Drama'}]   \n",
       "3  [{'id': 53, 'name': 'Thriller'}, {'id': 18, 'n...   \n",
       "4  [{'id': 28, 'name': 'Action'}, {'id': 53, 'nam...   \n",
       "\n",
       "                            homepage    imdb_id original_language  \\\n",
       "0                                NaN  tt2637294                en   \n",
       "1                                NaN  tt0368933                en   \n",
       "2  http://sonyclassics.com/whiplash/  tt2582802                en   \n",
       "3         http://kahaanithefilm.com/  tt1821480                hi   \n",
       "4                                NaN  tt1380152                ko   \n",
       "\n",
       "                             original_title  \\\n",
       "0                    Hot Tub Time Machine 2   \n",
       "1  The Princess Diaries 2: Royal Engagement   \n",
       "2                                  Whiplash   \n",
       "3                                   Kahaani   \n",
       "4                                      마린보이   \n",
       "\n",
       "                                            overview  popularity  ...  \\\n",
       "0  When Lou, who has become the \"father of the In...    6.575393  ...   \n",
       "1  Mia Thermopolis is now a college graduate and ...    8.248895  ...   \n",
       "2  Under the direction of a ruthless instructor, ...   64.299990  ...   \n",
       "3  Vidya Bagchi (Vidya Balan) arrives in Kolkata ...    3.174936  ...   \n",
       "4  Marine Boy is the story of a former national s...    1.148070  ...   \n",
       "\n",
       "  release_date runtime                                   spoken_languages  \\\n",
       "0      2/20/15    93.0           [{'iso_639_1': 'en', 'name': 'English'}]   \n",
       "1       8/6/04   113.0           [{'iso_639_1': 'en', 'name': 'English'}]   \n",
       "2     10/10/14   105.0           [{'iso_639_1': 'en', 'name': 'English'}]   \n",
       "3       3/9/12   122.0  [{'iso_639_1': 'en', 'name': 'English'}, {'iso...   \n",
       "4       2/5/09   118.0           [{'iso_639_1': 'ko', 'name': '한국어/조선말'}]   \n",
       "\n",
       "     status                                            tagline  \\\n",
       "0  Released  The Laws of Space and Time are About to be Vio...   \n",
       "1  Released  It can take a lifetime to find true love; she'...   \n",
       "2  Released    The road to greatness can take you to the edge.   \n",
       "3  Released                                                NaN   \n",
       "4  Released                                                NaN   \n",
       "\n",
       "                                      title  \\\n",
       "0                    Hot Tub Time Machine 2   \n",
       "1  The Princess Diaries 2: Royal Engagement   \n",
       "2                                  Whiplash   \n",
       "3                                   Kahaani   \n",
       "4                                Marine Boy   \n",
       "\n",
       "                                            Keywords  \\\n",
       "0  [{'id': 4379, 'name': 'time travel'}, {'id': 9...   \n",
       "1  [{'id': 2505, 'name': 'coronation'}, {'id': 42...   \n",
       "2  [{'id': 1416, 'name': 'jazz'}, {'id': 1523, 'n...   \n",
       "3  [{'id': 10092, 'name': 'mystery'}, {'id': 1054...   \n",
       "4                                                NaN   \n",
       "\n",
       "                                                cast  \\\n",
       "0  [{'cast_id': 4, 'character': 'Lou', 'credit_id...   \n",
       "1  [{'cast_id': 1, 'character': 'Mia Thermopolis'...   \n",
       "2  [{'cast_id': 5, 'character': 'Andrew Neimann',...   \n",
       "3  [{'cast_id': 1, 'character': 'Vidya Bagchi', '...   \n",
       "4  [{'cast_id': 3, 'character': 'Chun-soo', 'cred...   \n",
       "\n",
       "                                                crew   revenue  \n",
       "0  [{'credit_id': '59ac067c92514107af02c8c8', 'de...  12314651  \n",
       "1  [{'credit_id': '52fe43fe9251416c7502563d', 'de...  95149435  \n",
       "2  [{'credit_id': '54d5356ec3a3683ba0000039', 'de...  13092000  \n",
       "3  [{'credit_id': '52fe48779251416c9108d6eb', 'de...  16000000  \n",
       "4  [{'credit_id': '52fe464b9251416c75073b43', 'de...   3923970  \n",
       "\n",
       "[5 rows x 23 columns]"
      ]
     },
     "execution_count": 221,
     "metadata": {},
     "output_type": "execute_result"
    }
   ],
   "source": [
    "data.head()"
   ]
  },
  {
   "cell_type": "code",
   "execution_count": 222,
   "metadata": {},
   "outputs": [
    {
     "name": "stdout",
     "output_type": "stream",
     "text": [
      "<class 'pandas.core.frame.DataFrame'>\n",
      "RangeIndex: 3000 entries, 0 to 2999\n",
      "Data columns (total 23 columns):\n",
      " #   Column                 Non-Null Count  Dtype  \n",
      "---  ------                 --------------  -----  \n",
      " 0   id                     3000 non-null   int64  \n",
      " 1   belongs_to_collection  604 non-null    object \n",
      " 2   budget                 3000 non-null   int64  \n",
      " 3   genres                 2993 non-null   object \n",
      " 4   homepage               946 non-null    object \n",
      " 5   imdb_id                3000 non-null   object \n",
      " 6   original_language      3000 non-null   object \n",
      " 7   original_title         3000 non-null   object \n",
      " 8   overview               2992 non-null   object \n",
      " 9   popularity             3000 non-null   float64\n",
      " 10  poster_path            2999 non-null   object \n",
      " 11  production_companies   2844 non-null   object \n",
      " 12  production_countries   2945 non-null   object \n",
      " 13  release_date           3000 non-null   object \n",
      " 14  runtime                2998 non-null   float64\n",
      " 15  spoken_languages       2980 non-null   object \n",
      " 16  status                 3000 non-null   object \n",
      " 17  tagline                2403 non-null   object \n",
      " 18  title                  3000 non-null   object \n",
      " 19  Keywords               2724 non-null   object \n",
      " 20  cast                   2987 non-null   object \n",
      " 21  crew                   2984 non-null   object \n",
      " 22  revenue                3000 non-null   int64  \n",
      "dtypes: float64(2), int64(3), object(18)\n",
      "memory usage: 539.2+ KB\n"
     ]
    }
   ],
   "source": [
    "data.info()"
   ]
  },
  {
   "cell_type": "markdown",
   "metadata": {},
   "source": [
    "### Подготавливаем данные к дальнешему исследованию"
   ]
  },
  {
   "cell_type": "markdown",
   "metadata": {},
   "source": [
    "Удаляем лишние столбцы"
   ]
  },
  {
   "cell_type": "code",
   "execution_count": 223,
   "metadata": {},
   "outputs": [],
   "source": [
    "data.drop(['imdb_id','poster_path', 'homepage', 'production_companies','production_countries', 'tagline', 'Keywords'],axis=1,inplace=True)"
   ]
  },
  {
   "cell_type": "markdown",
   "metadata": {},
   "source": [
    "Вводим критерий коллекции"
   ]
  },
  {
   "cell_type": "code",
   "execution_count": 224,
   "metadata": {},
   "outputs": [
    {
     "data": {
      "image/png": "[encoded data removed]",
      "text/plain": [
       "<Figure size 360x360 with 1 Axes>"
      ]
     },
     "metadata": {
      "needs_background": "light"
     },
     "output_type": "display_data"
    }
   ],
   "source": [
    "data['collection'] = 0\n",
    "data.loc[data['belongs_to_collection'].isnull() == False, 'collection'] = 1\n",
    "\n",
    "sns.catplot(x='collection', y='revenue', data=data);\n",
    "plt.title('Revenue for film with and without collection');"
   ]
  },
  {
   "cell_type": "code",
   "execution_count": 225,
   "metadata": {},
   "outputs": [
    {
     "name": "stdout",
     "output_type": "stream",
     "text": [
      "<class 'pandas.core.frame.DataFrame'>\n",
      "RangeIndex: 3000 entries, 0 to 2999\n",
      "Data columns (total 17 columns):\n",
      " #   Column                 Non-Null Count  Dtype  \n",
      "---  ------                 --------------  -----  \n",
      " 0   id                     3000 non-null   int64  \n",
      " 1   belongs_to_collection  604 non-null    object \n",
      " 2   budget                 3000 non-null   int64  \n",
      " 3   genres                 2993 non-null   object \n",
      " 4   original_language      3000 non-null   object \n",
      " 5   original_title         3000 non-null   object \n",
      " 6   overview               2992 non-null   object \n",
      " 7   popularity             3000 non-null   float64\n",
      " 8   release_date           3000 non-null   object \n",
      " 9   runtime                2998 non-null   float64\n",
      " 10  spoken_languages       2980 non-null   object \n",
      " 11  status                 3000 non-null   object \n",
      " 12  title                  3000 non-null   object \n",
      " 13  cast                   2987 non-null   object \n",
      " 14  crew                   2984 non-null   object \n",
      " 15  revenue                3000 non-null   int64  \n",
      " 16  collection             3000 non-null   int64  \n",
      "dtypes: float64(2), int64(4), object(11)\n",
      "memory usage: 398.6+ KB\n"
     ]
    }
   ],
   "source": [
    "data.info()"
   ]
  },
  {
   "cell_type": "code",
   "execution_count": 226,
   "metadata": {},
   "outputs": [],
   "source": [
    "data=data.drop(['belongs_to_collection'],axis =1)"
   ]
  },
  {
   "cell_type": "markdown",
   "metadata": {},
   "source": [
    "Создаем датасет для фильмов коллекций и оригинальных фильмов"
   ]
  },
  {
   "cell_type": "code",
   "execution_count": 227,
   "metadata": {},
   "outputs": [],
   "source": [
    "collection = data.loc[data['collection'] != 0]"
   ]
  },
  {
   "cell_type": "code",
   "execution_count": 228,
   "metadata": {},
   "outputs": [
    {
     "data": {
      "text/html": [
       "<div>\n",
       "<style scoped>\n",
       "    .dataframe tbody tr th:only-of-type {\n",
       "        vertical-align: middle;\n",
       "    }\n",
       "\n",
       "    .dataframe tbody tr th {\n",
       "        vertical-align: top;\n",
       "    }\n",
       "\n",
       "    .dataframe thead th {\n",
       "        text-align: right;\n",
       "    }\n",
       "</style>\n",
       "<table border=\"1\" class=\"dataframe\">\n",
       "  <thead>\n",
       "    <tr style=\"text-align: right;\">\n",
       "      <th></th>\n",
       "      <th>id</th>\n",
       "      <th>budget</th>\n",
       "      <th>genres</th>\n",
       "      <th>original_language</th>\n",
       "      <th>original_title</th>\n",
       "      <th>overview</th>\n",
       "      <th>popularity</th>\n",
       "      <th>release_date</th>\n",
       "      <th>runtime</th>\n",
       "      <th>spoken_languages</th>\n",
       "      <th>status</th>\n",
       "      <th>title</th>\n",
       "      <th>cast</th>\n",
       "      <th>crew</th>\n",
       "      <th>revenue</th>\n",
       "      <th>collection</th>\n",
       "    </tr>\n",
       "  </thead>\n",
       "  <tbody>\n",
       "    <tr>\n",
       "      <th>0</th>\n",
       "      <td>1</td>\n",
       "      <td>14000000</td>\n",
       "      <td>[{'id': 35, 'name': 'Comedy'}]</td>\n",
       "      <td>en</td>\n",
       "      <td>Hot Tub Time Machine 2</td>\n",
       "      <td>When Lou, who has become the \"father of the In...</td>\n",
       "      <td>6.575393</td>\n",
       "      <td>2/20/15</td>\n",
       "      <td>93.0</td>\n",
       "      <td>[{'iso_639_1': 'en', 'name': 'English'}]</td>\n",
       "      <td>Released</td>\n",
       "      <td>Hot Tub Time Machine 2</td>\n",
       "      <td>[{'cast_id': 4, 'character': 'Lou', 'credit_id...</td>\n",
       "      <td>[{'credit_id': '59ac067c92514107af02c8c8', 'de...</td>\n",
       "      <td>12314651</td>\n",
       "      <td>1</td>\n",
       "    </tr>\n",
       "    <tr>\n",
       "      <th>1</th>\n",
       "      <td>2</td>\n",
       "      <td>40000000</td>\n",
       "      <td>[{'id': 35, 'name': 'Comedy'}, {'id': 18, 'nam...</td>\n",
       "      <td>en</td>\n",
       "      <td>The Princess Diaries 2: Royal Engagement</td>\n",
       "      <td>Mia Thermopolis is now a college graduate and ...</td>\n",
       "      <td>8.248895</td>\n",
       "      <td>8/6/04</td>\n",
       "      <td>113.0</td>\n",
       "      <td>[{'iso_639_1': 'en', 'name': 'English'}]</td>\n",
       "      <td>Released</td>\n",
       "      <td>The Princess Diaries 2: Royal Engagement</td>\n",
       "      <td>[{'cast_id': 1, 'character': 'Mia Thermopolis'...</td>\n",
       "      <td>[{'credit_id': '52fe43fe9251416c7502563d', 'de...</td>\n",
       "      <td>95149435</td>\n",
       "      <td>1</td>\n",
       "    </tr>\n",
       "    <tr>\n",
       "      <th>8</th>\n",
       "      <td>9</td>\n",
       "      <td>0</td>\n",
       "      <td>[{'id': 28, 'name': 'Action'}, {'id': 35, 'nam...</td>\n",
       "      <td>en</td>\n",
       "      <td>Muppet Treasure Island</td>\n",
       "      <td>After telling the story of Flint's last journe...</td>\n",
       "      <td>6.902423</td>\n",
       "      <td>2/16/96</td>\n",
       "      <td>100.0</td>\n",
       "      <td>[{'iso_639_1': 'en', 'name': 'English'}]</td>\n",
       "      <td>Released</td>\n",
       "      <td>Muppet Treasure Island</td>\n",
       "      <td>[{'cast_id': 1, 'character': 'Long John Silver...</td>\n",
       "      <td>[{'credit_id': '52fe43c89251416c7501deb3', 'de...</td>\n",
       "      <td>34327391</td>\n",
       "      <td>1</td>\n",
       "    </tr>\n",
       "    <tr>\n",
       "      <th>10</th>\n",
       "      <td>11</td>\n",
       "      <td>1000000</td>\n",
       "      <td>[{'id': 18, 'name': 'Drama'}]</td>\n",
       "      <td>en</td>\n",
       "      <td>Rocky</td>\n",
       "      <td>When world heavyweight boxing champion, Apollo...</td>\n",
       "      <td>14.774066</td>\n",
       "      <td>11/21/76</td>\n",
       "      <td>119.0</td>\n",
       "      <td>[{'iso_639_1': 'en', 'name': 'English'}]</td>\n",
       "      <td>Released</td>\n",
       "      <td>Rocky</td>\n",
       "      <td>[{'cast_id': 16, 'character': 'Rocky Balboa', ...</td>\n",
       "      <td>[{'credit_id': '579948e9c3a36874e9007b0b', 'de...</td>\n",
       "      <td>117235147</td>\n",
       "      <td>1</td>\n",
       "    </tr>\n",
       "    <tr>\n",
       "      <th>11</th>\n",
       "      <td>12</td>\n",
       "      <td>0</td>\n",
       "      <td>[{'id': 35, 'name': 'Comedy'}]</td>\n",
       "      <td>en</td>\n",
       "      <td>Revenge of the Nerds II: Nerds in Paradise</td>\n",
       "      <td>The members of the Lambda Lambda Lambda frater...</td>\n",
       "      <td>10.543750</td>\n",
       "      <td>7/10/87</td>\n",
       "      <td>98.0</td>\n",
       "      <td>[{'iso_639_1': 'en', 'name': 'English'}]</td>\n",
       "      <td>Released</td>\n",
       "      <td>Revenge of the Nerds II: Nerds in Paradise</td>\n",
       "      <td>[{'cast_id': 2, 'character': 'Lewis Skolnick',...</td>\n",
       "      <td>[{'credit_id': '52fe46f49251416c750891e9', 'de...</td>\n",
       "      <td>22642033</td>\n",
       "      <td>1</td>\n",
       "    </tr>\n",
       "  </tbody>\n",
       "</table>\n",
       "</div>"
      ],
      "text/plain": [
       "    id    budget                                             genres  \\\n",
       "0    1  14000000                     [{'id': 35, 'name': 'Comedy'}]   \n",
       "1    2  40000000  [{'id': 35, 'name': 'Comedy'}, {'id': 18, 'nam...   \n",
       "8    9         0  [{'id': 28, 'name': 'Action'}, {'id': 35, 'nam...   \n",
       "10  11   1000000                      [{'id': 18, 'name': 'Drama'}]   \n",
       "11  12         0                     [{'id': 35, 'name': 'Comedy'}]   \n",
       "\n",
       "   original_language                              original_title  \\\n",
       "0                 en                      Hot Tub Time Machine 2   \n",
       "1                 en    The Princess Diaries 2: Royal Engagement   \n",
       "8                 en                      Muppet Treasure Island   \n",
       "10                en                                       Rocky   \n",
       "11                en  Revenge of the Nerds II: Nerds in Paradise   \n",
       "\n",
       "                                             overview  popularity  \\\n",
       "0   When Lou, who has become the \"father of the In...    6.575393   \n",
       "1   Mia Thermopolis is now a college graduate and ...    8.248895   \n",
       "8   After telling the story of Flint's last journe...    6.902423   \n",
       "10  When world heavyweight boxing champion, Apollo...   14.774066   \n",
       "11  The members of the Lambda Lambda Lambda frater...   10.543750   \n",
       "\n",
       "   release_date  runtime                          spoken_languages    status  \\\n",
       "0       2/20/15     93.0  [{'iso_639_1': 'en', 'name': 'English'}]  Released   \n",
       "1        8/6/04    113.0  [{'iso_639_1': 'en', 'name': 'English'}]  Released   \n",
       "8       2/16/96    100.0  [{'iso_639_1': 'en', 'name': 'English'}]  Released   \n",
       "10     11/21/76    119.0  [{'iso_639_1': 'en', 'name': 'English'}]  Released   \n",
       "11      7/10/87     98.0  [{'iso_639_1': 'en', 'name': 'English'}]  Released   \n",
       "\n",
       "                                         title  \\\n",
       "0                       Hot Tub Time Machine 2   \n",
       "1     The Princess Diaries 2: Royal Engagement   \n",
       "8                       Muppet Treasure Island   \n",
       "10                                       Rocky   \n",
       "11  Revenge of the Nerds II: Nerds in Paradise   \n",
       "\n",
       "                                                 cast  \\\n",
       "0   [{'cast_id': 4, 'character': 'Lou', 'credit_id...   \n",
       "1   [{'cast_id': 1, 'character': 'Mia Thermopolis'...   \n",
       "8   [{'cast_id': 1, 'character': 'Long John Silver...   \n",
       "10  [{'cast_id': 16, 'character': 'Rocky Balboa', ...   \n",
       "11  [{'cast_id': 2, 'character': 'Lewis Skolnick',...   \n",
       "\n",
       "                                                 crew    revenue  collection  \n",
       "0   [{'credit_id': '59ac067c92514107af02c8c8', 'de...   12314651           1  \n",
       "1   [{'credit_id': '52fe43fe9251416c7502563d', 'de...   95149435           1  \n",
       "8   [{'credit_id': '52fe43c89251416c7501deb3', 'de...   34327391           1  \n",
       "10  [{'credit_id': '579948e9c3a36874e9007b0b', 'de...  117235147           1  \n",
       "11  [{'credit_id': '52fe46f49251416c750891e9', 'de...   22642033           1  "
      ]
     },
     "execution_count": 228,
     "metadata": {},
     "output_type": "execute_result"
    }
   ],
   "source": [
    "collection.head()"
   ]
  },
  {
   "cell_type": "code",
   "execution_count": 229,
   "metadata": {},
   "outputs": [],
   "source": [
    "original = data.loc[data['collection'] != 1]"
   ]
  },
  {
   "cell_type": "code",
   "execution_count": 230,
   "metadata": {},
   "outputs": [
    {
     "data": {
      "text/html": [
       "<div>\n",
       "<style scoped>\n",
       "    .dataframe tbody tr th:only-of-type {\n",
       "        vertical-align: middle;\n",
       "    }\n",
       "\n",
       "    .dataframe tbody tr th {\n",
       "        vertical-align: top;\n",
       "    }\n",
       "\n",
       "    .dataframe thead th {\n",
       "        text-align: right;\n",
       "    }\n",
       "</style>\n",
       "<table border=\"1\" class=\"dataframe\">\n",
       "  <thead>\n",
       "    <tr style=\"text-align: right;\">\n",
       "      <th></th>\n",
       "      <th>id</th>\n",
       "      <th>budget</th>\n",
       "      <th>genres</th>\n",
       "      <th>original_language</th>\n",
       "      <th>original_title</th>\n",
       "      <th>overview</th>\n",
       "      <th>popularity</th>\n",
       "      <th>release_date</th>\n",
       "      <th>runtime</th>\n",
       "      <th>spoken_languages</th>\n",
       "      <th>status</th>\n",
       "      <th>title</th>\n",
       "      <th>cast</th>\n",
       "      <th>crew</th>\n",
       "      <th>revenue</th>\n",
       "      <th>collection</th>\n",
       "    </tr>\n",
       "  </thead>\n",
       "  <tbody>\n",
       "    <tr>\n",
       "      <th>2</th>\n",
       "      <td>3</td>\n",
       "      <td>3300000</td>\n",
       "      <td>[{'id': 18, 'name': 'Drama'}]</td>\n",
       "      <td>en</td>\n",
       "      <td>Whiplash</td>\n",
       "      <td>Under the direction of a ruthless instructor, ...</td>\n",
       "      <td>64.299990</td>\n",
       "      <td>10/10/14</td>\n",
       "      <td>105.0</td>\n",
       "      <td>[{'iso_639_1': 'en', 'name': 'English'}]</td>\n",
       "      <td>Released</td>\n",
       "      <td>Whiplash</td>\n",
       "      <td>[{'cast_id': 5, 'character': 'Andrew Neimann',...</td>\n",
       "      <td>[{'credit_id': '54d5356ec3a3683ba0000039', 'de...</td>\n",
       "      <td>13092000</td>\n",
       "      <td>0</td>\n",
       "    </tr>\n",
       "    <tr>\n",
       "      <th>3</th>\n",
       "      <td>4</td>\n",
       "      <td>1200000</td>\n",
       "      <td>[{'id': 53, 'name': 'Thriller'}, {'id': 18, 'n...</td>\n",
       "      <td>hi</td>\n",
       "      <td>Kahaani</td>\n",
       "      <td>Vidya Bagchi (Vidya Balan) arrives in Kolkata ...</td>\n",
       "      <td>3.174936</td>\n",
       "      <td>3/9/12</td>\n",
       "      <td>122.0</td>\n",
       "      <td>[{'iso_639_1': 'en', 'name': 'English'}, {'iso...</td>\n",
       "      <td>Released</td>\n",
       "      <td>Kahaani</td>\n",
       "      <td>[{'cast_id': 1, 'character': 'Vidya Bagchi', '...</td>\n",
       "      <td>[{'credit_id': '52fe48779251416c9108d6eb', 'de...</td>\n",
       "      <td>16000000</td>\n",
       "      <td>0</td>\n",
       "    </tr>\n",
       "    <tr>\n",
       "      <th>4</th>\n",
       "      <td>5</td>\n",
       "      <td>0</td>\n",
       "      <td>[{'id': 28, 'name': 'Action'}, {'id': 53, 'nam...</td>\n",
       "      <td>ko</td>\n",
       "      <td>마린보이</td>\n",
       "      <td>Marine Boy is the story of a former national s...</td>\n",
       "      <td>1.148070</td>\n",
       "      <td>2/5/09</td>\n",
       "      <td>118.0</td>\n",
       "      <td>[{'iso_639_1': 'ko', 'name': '한국어/조선말'}]</td>\n",
       "      <td>Released</td>\n",
       "      <td>Marine Boy</td>\n",
       "      <td>[{'cast_id': 3, 'character': 'Chun-soo', 'cred...</td>\n",
       "      <td>[{'credit_id': '52fe464b9251416c75073b43', 'de...</td>\n",
       "      <td>3923970</td>\n",
       "      <td>0</td>\n",
       "    </tr>\n",
       "    <tr>\n",
       "      <th>5</th>\n",
       "      <td>6</td>\n",
       "      <td>8000000</td>\n",
       "      <td>[{'id': 16, 'name': 'Animation'}, {'id': 12, '...</td>\n",
       "      <td>en</td>\n",
       "      <td>Pinocchio and the Emperor of the Night</td>\n",
       "      <td>Pinocchio and his friends, a glow worm and a m...</td>\n",
       "      <td>0.743274</td>\n",
       "      <td>8/6/87</td>\n",
       "      <td>83.0</td>\n",
       "      <td>[{'iso_639_1': 'en', 'name': 'English'}]</td>\n",
       "      <td>Released</td>\n",
       "      <td>Pinocchio and the Emperor of the Night</td>\n",
       "      <td>[{'cast_id': 6, 'character': 'Pinocchio (voice...</td>\n",
       "      <td>[{'credit_id': '52fe46f49251416c9106558b', 'de...</td>\n",
       "      <td>3261638</td>\n",
       "      <td>0</td>\n",
       "    </tr>\n",
       "    <tr>\n",
       "      <th>6</th>\n",
       "      <td>7</td>\n",
       "      <td>14000000</td>\n",
       "      <td>[{'id': 27, 'name': 'Horror'}, {'id': 53, 'nam...</td>\n",
       "      <td>en</td>\n",
       "      <td>The Possession</td>\n",
       "      <td>A young girl buys an antique box at a yard sal...</td>\n",
       "      <td>7.286477</td>\n",
       "      <td>8/30/12</td>\n",
       "      <td>92.0</td>\n",
       "      <td>[{'iso_639_1': 'en', 'name': 'English'}]</td>\n",
       "      <td>Released</td>\n",
       "      <td>The Possession</td>\n",
       "      <td>[{'cast_id': 23, 'character': 'Clyde', 'credit...</td>\n",
       "      <td>[{'credit_id': '52fe4981c3a368484e12ee29', 'de...</td>\n",
       "      <td>85446075</td>\n",
       "      <td>0</td>\n",
       "    </tr>\n",
       "  </tbody>\n",
       "</table>\n",
       "</div>"
      ],
      "text/plain": [
       "   id    budget                                             genres  \\\n",
       "2   3   3300000                      [{'id': 18, 'name': 'Drama'}]   \n",
       "3   4   1200000  [{'id': 53, 'name': 'Thriller'}, {'id': 18, 'n...   \n",
       "4   5         0  [{'id': 28, 'name': 'Action'}, {'id': 53, 'nam...   \n",
       "5   6   8000000  [{'id': 16, 'name': 'Animation'}, {'id': 12, '...   \n",
       "6   7  14000000  [{'id': 27, 'name': 'Horror'}, {'id': 53, 'nam...   \n",
       "\n",
       "  original_language                          original_title  \\\n",
       "2                en                                Whiplash   \n",
       "3                hi                                 Kahaani   \n",
       "4                ko                                    마린보이   \n",
       "5                en  Pinocchio and the Emperor of the Night   \n",
       "6                en                          The Possession   \n",
       "\n",
       "                                            overview  popularity release_date  \\\n",
       "2  Under the direction of a ruthless instructor, ...   64.299990     10/10/14   \n",
       "3  Vidya Bagchi (Vidya Balan) arrives in Kolkata ...    3.174936       3/9/12   \n",
       "4  Marine Boy is the story of a former national s...    1.148070       2/5/09   \n",
       "5  Pinocchio and his friends, a glow worm and a m...    0.743274       8/6/87   \n",
       "6  A young girl buys an antique box at a yard sal...    7.286477      8/30/12   \n",
       "\n",
       "   runtime                                   spoken_languages    status  \\\n",
       "2    105.0           [{'iso_639_1': 'en', 'name': 'English'}]  Released   \n",
       "3    122.0  [{'iso_639_1': 'en', 'name': 'English'}, {'iso...  Released   \n",
       "4    118.0           [{'iso_639_1': 'ko', 'name': '한국어/조선말'}]  Released   \n",
       "5     83.0           [{'iso_639_1': 'en', 'name': 'English'}]  Released   \n",
       "6     92.0           [{'iso_639_1': 'en', 'name': 'English'}]  Released   \n",
       "\n",
       "                                    title  \\\n",
       "2                                Whiplash   \n",
       "3                                 Kahaani   \n",
       "4                              Marine Boy   \n",
       "5  Pinocchio and the Emperor of the Night   \n",
       "6                          The Possession   \n",
       "\n",
       "                                                cast  \\\n",
       "2  [{'cast_id': 5, 'character': 'Andrew Neimann',...   \n",
       "3  [{'cast_id': 1, 'character': 'Vidya Bagchi', '...   \n",
       "4  [{'cast_id': 3, 'character': 'Chun-soo', 'cred...   \n",
       "5  [{'cast_id': 6, 'character': 'Pinocchio (voice...   \n",
       "6  [{'cast_id': 23, 'character': 'Clyde', 'credit...   \n",
       "\n",
       "                                                crew   revenue  collection  \n",
       "2  [{'credit_id': '54d5356ec3a3683ba0000039', 'de...  13092000           0  \n",
       "3  [{'credit_id': '52fe48779251416c9108d6eb', 'de...  16000000           0  \n",
       "4  [{'credit_id': '52fe464b9251416c75073b43', 'de...   3923970           0  \n",
       "5  [{'credit_id': '52fe46f49251416c9106558b', 'de...   3261638           0  \n",
       "6  [{'credit_id': '52fe4981c3a368484e12ee29', 'de...  85446075           0  "
      ]
     },
     "execution_count": 230,
     "metadata": {},
     "output_type": "execute_result"
    }
   ],
   "source": [
    "original.head()"
   ]
  },
  {
   "cell_type": "code",
   "execution_count": 182,
   "metadata": {},
   "outputs": [
    {
     "name": "stdout",
     "output_type": "stream",
     "text": [
      "<class 'pandas.core.frame.DataFrame'>\n",
      "Int64Index: 604 entries, 0 to 2991\n",
      "Data columns (total 16 columns):\n",
      " #   Column             Non-Null Count  Dtype  \n",
      "---  ------             --------------  -----  \n",
      " 0   id                 604 non-null    int64  \n",
      " 1   budget             604 non-null    int64  \n",
      " 2   genres             604 non-null    object \n",
      " 3   original_language  604 non-null    object \n",
      " 4   original_title     604 non-null    object \n",
      " 5   overview           603 non-null    object \n",
      " 6   popularity         604 non-null    float64\n",
      " 7   release_date       604 non-null    object \n",
      " 8   runtime            604 non-null    float64\n",
      " 9   spoken_languages   603 non-null    object \n",
      " 10  status             604 non-null    object \n",
      " 11  title              604 non-null    object \n",
      " 12  cast               599 non-null    object \n",
      " 13  crew               599 non-null    object \n",
      " 14  revenue            604 non-null    int64  \n",
      " 15  collection         604 non-null    int64  \n",
      "dtypes: float64(2), int64(4), object(10)\n",
      "memory usage: 80.2+ KB\n"
     ]
    }
   ],
   "source": [
    "collection.info()"
   ]
  },
  {
   "cell_type": "code",
   "execution_count": 183,
   "metadata": {},
   "outputs": [
    {
     "name": "stdout",
     "output_type": "stream",
     "text": [
      "<class 'pandas.core.frame.DataFrame'>\n",
      "Int64Index: 2396 entries, 2 to 2999\n",
      "Data columns (total 16 columns):\n",
      " #   Column             Non-Null Count  Dtype  \n",
      "---  ------             --------------  -----  \n",
      " 0   id                 2396 non-null   int64  \n",
      " 1   budget             2396 non-null   int64  \n",
      " 2   genres             2389 non-null   object \n",
      " 3   original_language  2396 non-null   object \n",
      " 4   original_title     2396 non-null   object \n",
      " 5   overview           2389 non-null   object \n",
      " 6   popularity         2396 non-null   float64\n",
      " 7   release_date       2396 non-null   object \n",
      " 8   runtime            2394 non-null   float64\n",
      " 9   spoken_languages   2377 non-null   object \n",
      " 10  status             2396 non-null   object \n",
      " 11  title              2396 non-null   object \n",
      " 12  cast               2388 non-null   object \n",
      " 13  crew               2385 non-null   object \n",
      " 14  revenue            2396 non-null   int64  \n",
      " 15  collection         2396 non-null   int64  \n",
      "dtypes: float64(2), int64(4), object(10)\n",
      "memory usage: 318.2+ KB\n"
     ]
    }
   ],
   "source": [
    "original.info()"
   ]
  },
  {
   "cell_type": "markdown",
   "metadata": {},
   "source": [
    "### Выделяем таблицы фильмов, состоящих в коллекциях и оригинальных"
   ]
  },
  {
   "cell_type": "markdown",
   "metadata": {},
   "source": [
    "Делаем предположение, что фильмы являющиеся частью коллекцию собирают больше денег, чем оригинальные ленты"
   ]
  },
  {
   "cell_type": "markdown",
   "metadata": {},
   "source": [
    "Выделяем выборку из 500 фильмов из каждого датасета для дальнейшего исследования "
   ]
  },
  {
   "cell_type": "code",
   "execution_count": 184,
   "metadata": {},
   "outputs": [
    {
     "name": "stdout",
     "output_type": "stream",
     "text": [
      "500 500 1000\n"
     ]
    }
   ],
   "source": [
    "n_sample = 500\n",
    "\n",
    "y1 = collection.sample(n=n_sample, random_state=42)\n",
    "y2 = original.sample(n=n_sample, random_state=42)\n",
    "\n",
    "\n",
    "n1 = len(y1)\n",
    "n2 = len(y2)\n",
    "\n",
    "n = n1 + n2\n",
    "k = 2\n",
    "\n",
    "print(n1, n2, n)"
   ]
  },
  {
   "cell_type": "code",
   "execution_count": 185,
   "metadata": {},
   "outputs": [
    {
     "name": "stdout",
     "output_type": "stream",
     "text": [
      "<class 'pandas.core.frame.DataFrame'>\n",
      "Int64Index: 500 entries, 542 to 300\n",
      "Data columns (total 16 columns):\n",
      " #   Column             Non-Null Count  Dtype  \n",
      "---  ------             --------------  -----  \n",
      " 0   id                 500 non-null    int64  \n",
      " 1   budget             500 non-null    int64  \n",
      " 2   genres             500 non-null    object \n",
      " 3   original_language  500 non-null    object \n",
      " 4   original_title     500 non-null    object \n",
      " 5   overview           499 non-null    object \n",
      " 6   popularity         500 non-null    float64\n",
      " 7   release_date       500 non-null    object \n",
      " 8   runtime            500 non-null    float64\n",
      " 9   spoken_languages   499 non-null    object \n",
      " 10  status             500 non-null    object \n",
      " 11  title              500 non-null    object \n",
      " 12  cast               496 non-null    object \n",
      " 13  crew               496 non-null    object \n",
      " 14  revenue            500 non-null    int64  \n",
      " 15  collection         500 non-null    int64  \n",
      "dtypes: float64(2), int64(4), object(10)\n",
      "memory usage: 66.4+ KB\n"
     ]
    }
   ],
   "source": [
    "y1.info()"
   ]
  },
  {
   "cell_type": "markdown",
   "metadata": {},
   "source": [
    "Выделяем сборы в отдельные таблицы для коллекции и оригинальных фильмов"
   ]
  },
  {
   "cell_type": "code",
   "execution_count": 186,
   "metadata": {},
   "outputs": [],
   "source": [
    "y1_rev = y1['revenue']"
   ]
  },
  {
   "cell_type": "code",
   "execution_count": 188,
   "metadata": {},
   "outputs": [],
   "source": [
    "y2_rev = y2['revenue']"
   ]
  },
  {
   "cell_type": "code",
   "execution_count": 189,
   "metadata": {},
   "outputs": [
    {
     "name": "stdout",
     "output_type": "stream",
     "text": [
      "Belong to collection: mean = 161183991.308, std = 235654949.2024\n",
      "Original movies: mean = 38154751.12, std = 67615423.6941\n"
     ]
    }
   ],
   "source": [
    "y1_rev_mean = np.mean(y1_rev)\n",
    "y2_rev_mean = np.mean(y2_rev)\n",
    "\n",
    "y1_rev_s2 = np.var(y1_rev, ddof=1)\n",
    "y2_rev_s2 = np.var(y2_rev, ddof=1)\n",
    "\n",
    "\n",
    "print(f'Фильмы из коллекций: mean = {np.round(y1_rev_mean, 4)}, std = {np.round(y1_rev_s2**0.5, 4)}')\n",
    "print(f'Оригинальные фильмы: mean = {np.round(y2_rev_mean, 4)}, std = {np.round(y2_rev_s2**0.5, 4)}')\n"
   ]
  },
  {
   "cell_type": "markdown",
   "metadata": {},
   "source": [
    "Проверяем зависимость на графике. 0 - оригинальные фильмы, 1 - фильмы, входящие в состав коллекции"
   ]
  },
  {
   "cell_type": "code",
   "execution_count": 190,
   "metadata": {},
   "outputs": [
    {
     "data": {
      "image/png": "[encoded data removed]",
      "text/plain": [
       "<Figure size 432x288 with 1 Axes>"
      ]
     },
     "metadata": {
      "needs_background": "light"
     },
     "output_type": "display_data"
    }
   ],
   "source": [
    "movies = pd.concat([collection, original]).reset_index(drop=True)\n",
    "\n",
    "sns.boxplot(x=\"collection\", y=\"revenue\", palette=[\"r\", \"g\"], data=movies)\n",
    "sns.despine(offset=10, trim=True)"
   ]
  },
  {
   "cell_type": "markdown",
   "metadata": {},
   "source": [
    "### Проверяем гипотезу влияния принадлежности фильма к коллекции на сборы"
   ]
  },
  {
   "cell_type": "code",
   "execution_count": 191,
   "metadata": {},
   "outputs": [
    {
     "name": "stdout",
     "output_type": "stream",
     "text": [
      "Total revenue: mean = 99669371.214, std = 183875784.1347\n"
     ]
    }
   ],
   "source": [
    "y = np.concatenate([y1_rev, y2_rev])\n",
    "\n",
    "y_mean = np.mean(y)\n",
    "\n",
    "y_s2 = np.var(y, ddof=1)\n",
    "\n",
    "print(f'Общие сборы: mean = {np.round(y_mean, 4)}, std = {np.round(y_s2**0.5, 4)}')"
   ]
  },
  {
   "cell_type": "code",
   "execution_count": 192,
   "metadata": {},
   "outputs": [
    {
     "name": "stdout",
     "output_type": "stream",
     "text": [
      "Сумма квадратов отклонений наблюдений от общего среднего: 3.3776493687171797e+19\n",
      "Сумма квадратов отклонений средних групповых значений от общего среднего: 3.7840484853091487e+18\n",
      "Остаточная сумма квадратов отклонений: 2.9992445201862648e+19\n"
     ]
    }
   ],
   "source": [
    "ss_g = np.sum((y - y_mean)**2)\n",
    "ss_f = ((y1_rev_mean - y_mean)**2) * n1 + ((y2_rev_mean - y_mean)**2) * n2\n",
    "ss_r = np.sum((y1_rev - y1_rev_mean)**2) + np.sum((y2_rev - y2_rev_mean)**2)\n",
    "\n",
    "print(f'Сумма квадратов отклонений наблюдений от общего среднего: {np.round(ss_g, 4)}')\n",
    "print(f'Сумма квадратов отклонений средних групповых значений от общего среднего: {np.round(ss_f, 4)}')\n",
    "print(f'Остаточная сумма квадратов отклонений: {np.round(ss_r, 4)}')"
   ]
  },
  {
   "cell_type": "code",
   "execution_count": 193,
   "metadata": {},
   "outputs": [
    {
     "name": "stdout",
     "output_type": "stream",
     "text": [
      "Общая дисперсия: 3.3810303991162956e+16\n",
      "Факторная дисперсия: 3.7840484853091487e+18\n",
      "Остаточная дисперсия: 3.005255030246758e+16\n"
     ]
    }
   ],
   "source": [
    "s2_g = ss_g / (n - 1)\n",
    "s2_f = ss_f / (k - 1)\n",
    "s2_r = ss_r / (n - k)\n",
    "\n",
    "print(f'Общая дисперсия: {np.round(s2_g, 4)}')\n",
    "print(f'Факторная дисперсия: {np.round(s2_f, 4)}')\n",
    "print(f'Остаточная дисперсия: {np.round(s2_r, 4)}')"
   ]
  },
  {
   "cell_type": "code",
   "execution_count": 194,
   "metadata": {},
   "outputs": [],
   "source": [
    "k1 = k - 1\n",
    "k2 = n - k"
   ]
  },
  {
   "cell_type": "code",
   "execution_count": 195,
   "metadata": {},
   "outputs": [
    {
     "name": "stdout",
     "output_type": "stream",
     "text": [
      "125.91438820413336\n"
     ]
    }
   ],
   "source": [
    "F = s2_f / s2_r\n",
    "print(F)"
   ]
  },
  {
   "cell_type": "markdown",
   "metadata": {},
   "source": [
    "Зафиксируем уровень значимости  𝛼=0.05 . Для него найдём критическое значение  𝐹𝑐𝑟𝑖𝑡 "
   ]
  },
  {
   "cell_type": "code",
   "execution_count": 196,
   "metadata": {},
   "outputs": [
    {
     "data": {
      "text/plain": [
       "3.850793370783879"
      ]
     },
     "execution_count": 196,
     "metadata": {},
     "output_type": "execute_result"
    }
   ],
   "source": [
    "alpha = 0.05\n",
    "\n",
    "F_crit = stats.f.ppf(1 - alpha, k1, k2)\n",
    "F_crit"
   ]
  },
  {
   "cell_type": "markdown",
   "metadata": {},
   "source": [
    "F = 125.91\n",
    "F_critical = 3.85\n",
    "Полученное значение F = 125.91 > Fкрит = 3.85\n",
    "\n",
    "Из этого следует, что фильмы, относящиеся к коллекции имеют больше шансов собрать большую кассу."
   ]
  },
  {
   "cell_type": "markdown",
   "metadata": {},
   "source": [
    "### Проверяем возможность получения большего бюджета фильмам коллекции"
   ]
  },
  {
   "cell_type": "markdown",
   "metadata": {},
   "source": [
    "Чистим датасеты от пустых значений"
   ]
  },
  {
   "cell_type": "code",
   "execution_count": 197,
   "metadata": {},
   "outputs": [],
   "source": [
    "collection = collection.loc[collection['budget'] != 0]\n",
    "original = original.loc[original['budget'] != 0]"
   ]
  },
  {
   "cell_type": "code",
   "execution_count": 198,
   "metadata": {},
   "outputs": [
    {
     "name": "stdout",
     "output_type": "stream",
     "text": [
      "<class 'pandas.core.frame.DataFrame'>\n",
      "Int64Index: 498 entries, 0 to 2991\n",
      "Data columns (total 16 columns):\n",
      " #   Column             Non-Null Count  Dtype  \n",
      "---  ------             --------------  -----  \n",
      " 0   id                 498 non-null    int64  \n",
      " 1   budget             498 non-null    int64  \n",
      " 2   genres             498 non-null    object \n",
      " 3   original_language  498 non-null    object \n",
      " 4   original_title     498 non-null    object \n",
      " 5   overview           497 non-null    object \n",
      " 6   popularity         498 non-null    float64\n",
      " 7   release_date       498 non-null    object \n",
      " 8   runtime            498 non-null    float64\n",
      " 9   spoken_languages   498 non-null    object \n",
      " 10  status             498 non-null    object \n",
      " 11  title              498 non-null    object \n",
      " 12  cast               493 non-null    object \n",
      " 13  crew               493 non-null    object \n",
      " 14  revenue            498 non-null    int64  \n",
      " 15  collection         498 non-null    int64  \n",
      "dtypes: float64(2), int64(4), object(10)\n",
      "memory usage: 66.1+ KB\n"
     ]
    }
   ],
   "source": [
    "collection.info()"
   ]
  },
  {
   "cell_type": "code",
   "execution_count": 199,
   "metadata": {},
   "outputs": [
    {
     "name": "stdout",
     "output_type": "stream",
     "text": [
      "<class 'pandas.core.frame.DataFrame'>\n",
      "Int64Index: 1690 entries, 2 to 2999\n",
      "Data columns (total 16 columns):\n",
      " #   Column             Non-Null Count  Dtype  \n",
      "---  ------             --------------  -----  \n",
      " 0   id                 1690 non-null   int64  \n",
      " 1   budget             1690 non-null   int64  \n",
      " 2   genres             1685 non-null   object \n",
      " 3   original_language  1690 non-null   object \n",
      " 4   original_title     1690 non-null   object \n",
      " 5   overview           1685 non-null   object \n",
      " 6   popularity         1690 non-null   float64\n",
      " 7   release_date       1690 non-null   object \n",
      " 8   runtime            1689 non-null   float64\n",
      " 9   spoken_languages   1683 non-null   object \n",
      " 10  status             1690 non-null   object \n",
      " 11  title              1690 non-null   object \n",
      " 12  cast               1683 non-null   object \n",
      " 13  crew               1682 non-null   object \n",
      " 14  revenue            1690 non-null   int64  \n",
      " 15  collection         1690 non-null   int64  \n",
      "dtypes: float64(2), int64(4), object(10)\n",
      "memory usage: 224.5+ KB\n"
     ]
    }
   ],
   "source": [
    "original.info()"
   ]
  },
  {
   "cell_type": "markdown",
   "metadata": {},
   "source": [
    "Выделяем выборку из 400 фильмов в каждом датасете"
   ]
  },
  {
   "cell_type": "code",
   "execution_count": 200,
   "metadata": {},
   "outputs": [
    {
     "name": "stdout",
     "output_type": "stream",
     "text": [
      "400 400 800\n"
     ]
    }
   ],
   "source": [
    "n_sample = 400\n",
    "\n",
    "y1 = collection.sample(n=n_sample, random_state=42)\n",
    "y2 = original.sample(n=n_sample, random_state=42)\n",
    "\n",
    "\n",
    "n1 = len(y1)\n",
    "n2 = len(y2)\n",
    "\n",
    "n = n1 + n2\n",
    "k = 2\n",
    "\n",
    "print(n1, n2, n)"
   ]
  },
  {
   "cell_type": "markdown",
   "metadata": {},
   "source": [
    "Создаем отдельные таблицы с бюджетами"
   ]
  },
  {
   "cell_type": "code",
   "execution_count": 201,
   "metadata": {},
   "outputs": [],
   "source": [
    "y1_bud = y1['budget']\n",
    "y2_bud = y2['budget']"
   ]
  },
  {
   "cell_type": "code",
   "execution_count": 202,
   "metadata": {},
   "outputs": [
    {
     "name": "stdout",
     "output_type": "stream",
     "text": [
      "Belong to collection: mean = 44018649.1525, std = 54957155.3743\n",
      "Original movies: mean = 24648174.8925, std = 28033696.0653\n"
     ]
    }
   ],
   "source": [
    "y1_mean = np.mean(y1_bud)\n",
    "y2_mean = np.mean(y2_bud)\n",
    "\n",
    "y1_s2 = np.var(y1_bud, ddof=1)\n",
    "y2_s2 = np.var(y2_bud, ddof=1)\n",
    "\n",
    "\n",
    "print(f'Фильмы из коллекций: mean = {y1_mean}, std = {np.round(y1_s2**0.5, 4)}')\n",
    "print(f'Оригинальные фильмы: mean = {np.round(y2_mean, 4)}, std = {np.round(y2_s2**0.5, 4)}')\n"
   ]
  },
  {
   "cell_type": "markdown",
   "metadata": {},
   "source": [
    "Проверяем зависимость на графике. 0 - оригинальные фильмы, 1 - фильмы из коллекции"
   ]
  },
  {
   "cell_type": "code",
   "execution_count": 203,
   "metadata": {},
   "outputs": [
    {
     "data": {
      "image/png": "[encoded data removed]",
      "text/plain": [
       "<Figure size 432x288 with 1 Axes>"
      ]
     },
     "metadata": {
      "needs_background": "light"
     },
     "output_type": "display_data"
    }
   ],
   "source": [
    "movies = pd.concat([collection, original]).reset_index(drop=True)\n",
    "\n",
    "sns.boxplot(x=\"collection\", y=\"budget\", palette=[\"r\", \"g\"], data=movies)\n",
    "sns.despine(offset=10, trim=True)"
   ]
  },
  {
   "cell_type": "code",
   "execution_count": 204,
   "metadata": {},
   "outputs": [
    {
     "name": "stdout",
     "output_type": "stream",
     "text": [
      "Total revenue: mean = 34333412.0225, std = 44661257.2908\n"
     ]
    }
   ],
   "source": [
    "y = np.concatenate([y1_bud, y2_bud])\n",
    "\n",
    "y_mean = np.mean(y)\n",
    "\n",
    "y_s2 = np.var(y, ddof=1)\n",
    "\n",
    "print(f'Общий бюджет: mean = {np.round(y_mean, 4)}, std = {np.round(y_s2**0.5, 4)}')"
   ]
  },
  {
   "cell_type": "code",
   "execution_count": 205,
   "metadata": {},
   "outputs": [
    {
     "name": "stdout",
     "output_type": "stream",
     "text": [
      "Сумма квадратов отклонений наблюдений от общего среднего: 1.5937076943365033e+18\n",
      "Сумма квадратов отклонений средних групповых значений от общего среднего: 7.504305461146454e+16\n",
      "Остаточная сумма квадратов отклонений: 1.5186646397250388e+18\n"
     ]
    }
   ],
   "source": [
    "ss_g = np.sum((y - y_mean)**2)\n",
    "S2_b = ((y1_mean - y_mean)**2) * n1 + ((y2_mean - y_mean)**2) * n2\n",
    "S2_w = np.sum((y1_bud - y1_mean)**2) + np.sum((y2_bud - y2_mean)**2)\n",
    "\n",
    "print(f'Сумма квадратов отклонений наблюдений от общего среднего: {np.round(ss_g, 4)}')\n",
    "print(f'Сумма квадратов отклонений средних групповых значений от общего среднего: {np.round(S2_b, 4)}')\n",
    "print(f'Остаточная сумма квадратов отклонений: {np.round(S2_w, 4)}')"
   ]
  },
  {
   "cell_type": "markdown",
   "metadata": {},
   "source": [
    "Записываем оценки дисперсий:"
   ]
  },
  {
   "cell_type": "code",
   "execution_count": 206,
   "metadata": {},
   "outputs": [],
   "source": [
    "k1 = k - 1\n",
    "k2 = n - k\n",
    "\n",
    "sigma2_b = S2_b / k1\n",
    "sigma2_w = S2_w / k2"
   ]
  },
  {
   "cell_type": "markdown",
   "metadata": {},
   "source": [
    "Значение статистики  𝐹 :"
   ]
  },
  {
   "cell_type": "code",
   "execution_count": 207,
   "metadata": {},
   "outputs": [
    {
     "name": "stdout",
     "output_type": "stream",
     "text": [
      "39.432245943904405\n"
     ]
    }
   ],
   "source": [
    "F = sigma2_b / sigma2_w\n",
    "print(F)"
   ]
  },
  {
   "cell_type": "markdown",
   "metadata": {},
   "source": [
    "Зафиксируем уровень значимости  𝛼=0.05 . Для него найдём критическое значение  𝐹𝑐𝑟𝑖𝑡 :"
   ]
  },
  {
   "cell_type": "code",
   "execution_count": 208,
   "metadata": {},
   "outputs": [
    {
     "name": "stdout",
     "output_type": "stream",
     "text": [
      "3.853138126495274\n"
     ]
    }
   ],
   "source": [
    "alpha = 0.05\n",
    "\n",
    "F_crit = stats.f.ppf(1 - alpha, k1, k2)\n",
    "print(F_crit)"
   ]
  },
  {
   "cell_type": "markdown",
   "metadata": {},
   "source": [
    "F = 39.43\n",
    "F_critical = 3.85\n",
    "Полученное значение F = 39.43 > Fкрит = 3.85\n",
    "\n",
    "Из этого следует, что фильмы, относящиеся к коллекции имеют больше шансов получить больший бюджет."
   ]
  }
 ],
 "metadata": {
  "kernelspec": {
   "display_name": "Python 3",
   "language": "python",
   "name": "python3"
  },
  "language_info": {
   "codemirror_mode": {
    "name": "ipython",
    "version": 3
   },
   "file_extension": ".py",
   "mimetype": "text/x-python",
   "name": "python",
   "nbconvert_exporter": "python",
   "pygments_lexer": "ipython3",
   "version": "3.7.6"
  }
 },
 "nbformat": 4,
 "nbformat_minor": 4
}
